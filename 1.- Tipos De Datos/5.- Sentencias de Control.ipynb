{
 "cells": [
  {
   "cell_type": "code",
   "execution_count": 5,
   "metadata": {},
   "outputs": [
    {
     "name": "stdout",
     "output_type": "stream",
     "text": [
      "el número analizado es 0\n",
      "el número analizado es 2\n",
      "el número analizado es 4\n",
      "el número analizado es 6\n",
      "el número analizado es 8\n",
      "La cantidad de número pares es 5\n"
     ]
    }
   ],
   "source": [
    "#cilo For\n",
    "'''\n",
    "Contar cuantos Números Pares existen en los rangos de números siguientes.\n",
    "\n",
    "'''\n",
    "\n",
    "\n",
    "contador = 0\n",
    "\n",
    "for i in range(0,9):\n",
    "    if i % 2 == 0:\n",
    "        contador = contador + 1\n",
    "        print(\"el número analizado es {}\".format(i))\n",
    "\n",
    "        \n",
    "print(\"La cantidad de número pares es {}\".format(contador))        \n",
    "    \n",
    "\n",
    "\n"
   ]
  },
  {
   "cell_type": "code",
   "execution_count": 6,
   "metadata": {},
   "outputs": [
    {
     "name": "stdout",
     "output_type": "stream",
     "text": [
      "Valor de a: 12\n",
      "Valor de b: 23\n",
      "----------- Calculadora -----------\n",
      "1. Suma\n",
      "2. Resta\n",
      "3. Multiplicacion\n",
      "4. Division\n",
      "-----------------------------------\n",
      "Seleccione una opcion: 1\n",
      "35\n"
     ]
    }
   ],
   "source": [
    "\n",
    "def suma(a, b):\n",
    "   return a + b\n",
    "\n",
    "def resta(a, b):\n",
    "   return a - b\n",
    "\n",
    "def multiplicacion(a, b):\n",
    "   return a * b\n",
    "\n",
    "def division(a, b):\n",
    "   if b == 0:\n",
    "      return \"Error: Division entre cero...\"\n",
    "   else:\n",
    "      return a / b\n",
    "\n",
    "def default():\n",
    "   return \"Opcion Invalida\"\n",
    "\n",
    "def switch(case, a, b):\n",
    "\n",
    "   sw = {\n",
    "      1: suma(a, b),\n",
    "      2: resta(a, b),\n",
    "      3: multiplicacion(a, b),\n",
    "      4: division(a, b),\n",
    "   }\n",
    "\n",
    "\n",
    "   return sw.get(case, default())\n",
    "\n",
    "def menu():\n",
    "   print(\"----------- Calculadora -----------\")\n",
    "   print(\"1. Suma\")\n",
    "   print(\"2. Resta\")\n",
    "   print(\"3. Multiplicacion\")\n",
    "   print(\"4. Division\")\n",
    "   print(\"-----------------------------------\")\n",
    "\n",
    "\n",
    "a = int(input(\"Valor de a: \"))\n",
    "b = int(input(\"Valor de b: \"))\n",
    "menu()\n",
    "case = int(input(\"Seleccione una opcion: \"))\n",
    "print(switch(case, a, b))\n"
   ]
  },
  {
   "cell_type": "code",
   "execution_count": 37,
   "metadata": {},
   "outputs": [
    {
     "name": "stdout",
     "output_type": "stream",
     "text": [
      "Introduce un número para adivinar : 12\n",
      "Introduce un número para adivinar : 15\n",
      "Introduce un número para adivinar : 12\n",
      "Se acabarón los intentos para ganar, volver a intentarlo....\n"
     ]
    }
   ],
   "source": [
    "# Consultar Números Aleatorios.\n",
    "import random\n",
    "numero = random.randint(0,100)\n",
    "\n",
    "contador = 0\n",
    "for i in range(0,10):\n",
    "    numero2 =int(input( \"Introduce un número para adivinar : \"))\n",
    "    if numero2 - numero == 0 :\n",
    "        estado = 'SI'\n",
    "        break\n",
    "    else:\n",
    "        contador = contador + 1\n",
    "        if contador == 3 :\n",
    "            estado = 'NO'\n",
    "            break\n",
    "if estado == 'SI':\n",
    "    print(\"El número Ingresado cumple con el número aleatorio....\")\n",
    "    print('Numero aleatorio : {}'.format(str(numero)))\n",
    "    print('Numero Ingresado : {}'.format(str(numero2)))\n",
    "else:\n",
    "    print(\"Se acabarón los intentos para ganar, volver a intentarlo....\")      \n"
   ]
  },
  {
   "cell_type": "code",
   "execution_count": 36,
   "metadata": {},
   "outputs": [
    {
     "name": "stdout",
     "output_type": "stream",
     "text": [
      "Ingresar el número a sacar el factorial : -5\n",
      "No es un Número valido para continuar con la operación\n"
     ]
    }
   ],
   "source": [
    "'''\n",
    "Sacar el factorial de un número ingresado y validar que el \n",
    "número sea mayor o igual a cero\n",
    "\n",
    "'''\n",
    "def Factorial(numero):\n",
    "    acumulador = 1\n",
    "    \n",
    "    if numero >= 0 :\n",
    "        if numero > 0 :\n",
    "            for i in range(1,numero + 1):\n",
    "                acumulador = acumulador * i\n",
    "            print(\"El número ingresado es {}\".format(acumulador))\n",
    "                \n",
    "        else:\n",
    "            print(\"El valor calculado del Factorial es : {}\".format(numero))\n",
    "        \n",
    "    else:\n",
    "        print(\"No es un Número valido para continuar con la operación\")\n",
    "    \n",
    "numero = int(input(\"Ingresar el número a sacar el factorial : \"))\n",
    "Factorial(numero)\n",
    "\n"
   ]
  },
  {
   "cell_type": "code",
   "execution_count": null,
   "metadata": {},
   "outputs": [],
   "source": [
    "'''\n",
    "Algoritmo que pida números hasta que se introduzca un cero. \n",
    "Debe imprimir la suma y la media de todos los números introducidos.\n",
    "\n",
    "'''\n",
    "\n",
    "\n",
    "\n"
   ]
  }
 ],
 "metadata": {
  "kernelspec": {
   "display_name": "Python 3",
   "language": "python",
   "name": "python3"
  },
  "language_info": {
   "codemirror_mode": {
    "name": "ipython",
    "version": 3
   },
   "file_extension": ".py",
   "mimetype": "text/x-python",
   "name": "python",
   "nbconvert_exporter": "python",
   "pygments_lexer": "ipython3",
   "version": "3.7.0"
  }
 },
 "nbformat": 4,
 "nbformat_minor": 2
}
