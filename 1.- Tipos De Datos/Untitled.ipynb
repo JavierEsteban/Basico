{
 "cells": [
  {
   "cell_type": "code",
   "execution_count": 3,
   "metadata": {},
   "outputs": [
    {
     "name": "stdout",
     "output_type": "stream",
     "text": [
      "Ingrese el primer numero: 12\n",
      "Ingrese el segundo numero: 25\n",
      "El número mayor es 25 y el número menor es  12  .....\n"
     ]
    }
   ],
   "source": [
    "\n",
    "\n",
    "numero_1 = int(input(\"Ingrese el primer numero: \" ))\n",
    "numero_2 = int(input(\"Ingrese el segundo numero: \" ))\n",
    "\n",
    "\n",
    "if numero_1 > numero_2 :\n",
    "    print(\"El número mayor es {} y el número menor es  {}  .....\".format(numero_1, numero_2))\n",
    "else:\n",
    "    print(\"El número mayor es {} y el número menor es  {}  .....\".format(numero_2, numero_1))\n",
    "\n"
   ]
  },
  {
   "cell_type": "code",
   "execution_count": 1,
   "metadata": {},
   "outputs": [
    {
     "name": "stdout",
     "output_type": "stream",
     "text": [
      "Favor de Ingresar el Número a Analizar :3\n",
      "Favor de Indicar si desea continuar (S o N) : S\n",
      "Favor de Ingresar el Número a Analizar :2\n",
      "Favor de Indicar si desea continuar (S o N) : S\n",
      "Favor de Ingresar el Número a Analizar :6\n",
      "Favor de Indicar si desea continuar (S o N) : S\n",
      "Favor de Ingresar el Número a Analizar :3\n",
      "Favor de Indicar si desea continuar (S o N) : N\n",
      "El número analizado 3 es impar.\n",
      "El número analizado 2 es par.\n",
      "El número analizado 6 es par.\n",
      "El número analizado 3 es impar.\n",
      "[3, 2, 6, 3]\n",
      "['Impar', 'Par', 'Par', 'Impar']\n"
     ]
    }
   ],
   "source": [
    "\n",
    "##Ejercicio 3\n",
    "##Escribe un programa que lea un número e indique si es par o impar.\n",
    "\n",
    "\n",
    "Listado = list()\n",
    "ListadoAnalizado = list()\n",
    "Pregunta = 'S'\n",
    "\n",
    "while (Pregunta == 'S'):\n",
    "    Listado.append(int(input(\"Favor de Ingresar el Número a Analizar :\")))\n",
    "    Pregunta = input(\"Favor de Indicar si desea continuar (S o N) : \")\n",
    "\n",
    "\n",
    "for i in range (0,len(Listado)):\n",
    "    if Listado[i] % 2 == 0:\n",
    "        ListadoAnalizado.append('Par')\n",
    "        print(\"El número analizado {} es par.\".format(Listado[i]))\n",
    "    else:\n",
    "        ListadoAnalizado.append('Impar')\n",
    "        print(\"El número analizado {} es impar.\".format(Listado[i]))\n",
    "\n",
    "print(Listado)\n",
    "print(ListadoAnalizado)\n"
   ]
  },
  {
   "cell_type": "code",
   "execution_count": 2,
   "metadata": {},
   "outputs": [
    {
     "name": "stdout",
     "output_type": "stream",
     "text": [
      "Ingrese  de número a evaluar: 3\n",
      "Ingrese el número a evaluar: 2\n",
      "El número 2 es par..\n",
      "Ingrese el número a evaluar: 3\n",
      "El número 3 es impar.\n",
      "Ingrese el número a evaluar: 5\n",
      "El número 5 es impar.\n"
     ]
    }
   ],
   "source": [
    "\n",
    "contador = 0 \n",
    "conteo = int(input(\"Ingrese  de número a evaluar: \"))\n",
    "\n",
    "while(contador < conteo):\n",
    "    numero = int(input(\"Ingrese el número a evaluar: \"))\n",
    "    if(numero % 2 ==0):\n",
    "        print(\"El número {} es par..\".format(numero))\n",
    "    else:\n",
    "        print(\"El número {} es impar.\".format(numero))\n",
    "\n",
    "    contador = contador  + 1\n",
    "    \n"
   ]
  },
  {
   "cell_type": "code",
   "execution_count": 8,
   "metadata": {},
   "outputs": [
    {
     "name": "stdout",
     "output_type": "stream",
     "text": [
      "Presione S/N si desea realiza el calculo de la Media}:S\n",
      "ingresar la cantidad de números A ANALIZAR: 3\n",
      "Ingrese el número a evaluar : 12\n",
      "Ingrese el número a evaluar : 12\n",
      "Ingrese el número a evaluar : 12\n",
      "La media de los valores es : 12.0\n",
      "Presione S/N si desea realiza el calculo de la Media}:N\n"
     ]
    }
   ],
   "source": [
    "def calculo_media():\n",
    "    cantidad_veces = int(input(\"ingresar la cantidad de números A ANALIZAR: \"))\n",
    "    conteo = 0\n",
    "    Sumatotal = 0\n",
    "\n",
    "    while(conteo < cantidad_veces ):\n",
    "        numero = int(input(\"Ingrese el número a evaluar : \"))\n",
    "        Sumatotal = numero + Sumatotal\n",
    "        conteo = conteo + 1\n",
    "\n",
    "    Media = Sumatotal / cantidad_veces\n",
    "    print (\"La media de los valores es : {}\".format(Media))\n",
    "\n",
    "\n",
    "while(0==0):\n",
    "    Pregunta = str(input(\"Presione S/N si desea realiza el calculo de la Media}:\"))\n",
    "    if(Pregunta=='S'):\n",
    "       calculo_media()\n",
    "    else:\n",
    "        break\n"
   ]
  },
  {
   "cell_type": "markdown",
   "metadata": {},
   "source": [
    "# Operadores Logicos\n",
    "\n",
    "## operadores lógicos: Necesarios para negar la sentencia , Operador (and, not, or)\n"
   ]
  },
  {
   "cell_type": "code",
   "execution_count": 14,
   "metadata": {},
   "outputs": [
    {
     "data": {
      "text/plain": [
       "True"
      ]
     },
     "execution_count": 14,
     "metadata": {},
     "output_type": "execute_result"
    }
   ],
   "source": [
    "not True == False"
   ]
  },
  {
   "cell_type": "code",
   "execution_count": 15,
   "metadata": {},
   "outputs": [
    {
     "data": {
      "text/plain": [
       "True"
      ]
     },
     "execution_count": 15,
     "metadata": {},
     "output_type": "execute_result"
    }
   ],
   "source": [
    "1== 1"
   ]
  },
  {
   "cell_type": "code",
   "execution_count": 20,
   "metadata": {},
   "outputs": [
    {
     "name": "stdout",
     "output_type": "stream",
     "text": [
      "C es el valor 1\n",
      "C es el valor 2\n",
      "C es el valor 3\n",
      "La iteración de c vale 4\n",
      "La iteración termino el valor final de c es 4\n"
     ]
    }
   ],
   "source": [
    "\n",
    "c = 0\n",
    "while c < 7:\n",
    "    c += 1\n",
    "    if(c == 4):\n",
    "        print(\"La iteración de c vale {}\".format(c))\n",
    "        break\n",
    "    else:\n",
    "        print(\"C es el valor {}\".format(c))\n",
    "\n",
    "\n",
    "print(\"La iteración termino el valor final de c es {}\".format(c))\n"
   ]
  },
  {
   "cell_type": "code",
   "execution_count": 21,
   "metadata": {},
   "outputs": [
    {
     "name": "stdout",
     "output_type": "stream",
     "text": [
      "C es el valor 1\n",
      "C es el valor 2\n",
      "C es el valor 3\n",
      "C es el valor 5\n",
      "C es el valor 6\n",
      "C es el valor 7\n",
      "La iteración termino el valor final de c es 7\n"
     ]
    }
   ],
   "source": [
    "\n",
    "c = 0\n",
    "while c < 7:\n",
    "    c += 1\n",
    "    if(c == 4):\n",
    "        #print(\"La iteración de c vale {}\".format(c))\n",
    "        continue\n",
    "    else:\n",
    "        print(\"C es el valor {}\".format(c))\n",
    "\n",
    "\n",
    "print(\"La iteración termino el valor final de c es {}\".format(c))\n"
   ]
  },
  {
   "cell_type": "code",
   "execution_count": null,
   "metadata": {},
   "outputs": [],
   "source": []
  }
 ],
 "metadata": {
  "kernelspec": {
   "display_name": "Python 3",
   "language": "python",
   "name": "python3"
  },
  "language_info": {
   "codemirror_mode": {
    "name": "ipython",
    "version": 3
   },
   "file_extension": ".py",
   "mimetype": "text/x-python",
   "name": "python",
   "nbconvert_exporter": "python",
   "pygments_lexer": "ipython3",
   "version": "3.7.0"
  }
 },
 "nbformat": 4,
 "nbformat_minor": 2
}
